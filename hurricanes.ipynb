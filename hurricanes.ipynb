{
 "cells": [
  {
   "cell_type": "code",
   "execution_count": 37,
   "metadata": {},
   "outputs": [],
   "source": [
    "from pprint import pprint as pp"
   ]
  },
  {
   "cell_type": "code",
   "execution_count": 38,
   "metadata": {},
   "outputs": [],
   "source": [
    "# names of hurricanes\n",
    "names = ['Cuba I', 'San Felipe II Okeechobee', 'Bahamas', 'Cuba II', 'CubaBrownsville', 'Tampico', 'Labor Day', 'New England', 'Carol', 'Janet', 'Carla', 'Hattie', 'Beulah', 'Camille', 'Edith', 'Anita', 'David', 'Allen', 'Gilbert', 'Hugo', 'Andrew', 'Mitch', 'Isabel', 'Ivan', 'Emily', 'Katrina', 'Rita', 'Wilma', 'Dean', 'Felix', 'Matthew', 'Irma', 'Maria', 'Michael']\n",
    "\n",
    "# months of hurricanes\n",
    "months = ['October', 'September', 'September', 'November', 'August', 'September', 'September', 'September', 'September', 'September', 'September', 'October', 'September', 'August', 'September', 'September', 'August', 'August', 'September', 'September', 'August', 'October', 'September', 'September', 'July', 'August', 'September', 'October', 'August', 'September', 'October', 'September', 'September', 'October']\n",
    "\n",
    "# years of hurricanes\n",
    "years = [1924, 1928, 1932, 1932, 1933, 1933, 1935, 1938, 1953, 1955, 1961, 1961, 1967, 1969, 1971, 1977, 1979, 1980, 1988, 1989, 1992, 1998, 2003, 2004, 2005, 2005, 2005, 2005, 2007, 2007, 2016, 2017, 2017, 2018]\n",
    "\n",
    "# maximum sustained winds (mph) of hurricanes\n",
    "max_sustained_winds = [165, 160, 160, 175, 160, 160, 185, 160, 160, 175, 175, 160, 160, 175, 160, 175, 175, 190, 185, 160, 175, 180, 165, 165, 160, 175, 180, 185, 175, 175, 165, 180, 175, 160]\n",
    "\n",
    "# areas affected by each hurricane\n",
    "areas_affected = [['Central America', 'Mexico', 'Cuba', 'Florida', 'The Bahamas'], ['Lesser Antilles', 'The Bahamas', 'United States East Coast', 'Atlantic Canada'], ['The Bahamas', 'Northeastern United States'], ['Lesser Antilles', 'Jamaica', 'Cayman Islands', 'Cuba', 'The Bahamas', 'Bermuda'], ['The Bahamas', 'Cuba', 'Florida', 'Texas', 'Tamaulipas'], ['Jamaica', 'Yucatn Peninsula'], ['The Bahamas', 'Florida', 'Georgia', 'The Carolinas', 'Virginia'], ['Southeastern United States', 'Northeastern United States', 'Southwestern Quebec'], ['Bermuda', 'New England', 'Atlantic Canada'], ['Lesser Antilles', 'Central America'], ['Texas', 'Louisiana', 'Midwestern United States'], ['Central America'], ['The Caribbean', 'Mexico', 'Texas'], ['Cuba', 'United States Gulf Coast'], ['The Caribbean', 'Central America', 'Mexico', 'United States Gulf Coast'], ['Mexico'], ['The Caribbean', 'United States East coast'], ['The Caribbean', 'Yucatn Peninsula', 'Mexico', 'South Texas'], ['Jamaica', 'Venezuela', 'Central America', 'Hispaniola', 'Mexico'], ['The Caribbean', 'United States East Coast'], ['The Bahamas', 'Florida', 'United States Gulf Coast'], ['Central America', 'Yucatn Peninsula', 'South Florida'], ['Greater Antilles', 'Bahamas', 'Eastern United States', 'Ontario'], ['The Caribbean', 'Venezuela', 'United States Gulf Coast'], ['Windward Islands', 'Jamaica', 'Mexico', 'Texas'], ['Bahamas', 'United States Gulf Coast'], ['Cuba', 'United States Gulf Coast'], ['Greater Antilles', 'Central America', 'Florida'], ['The Caribbean', 'Central America'], ['Nicaragua', 'Honduras'], ['Antilles', 'Venezuela', 'Colombia', 'United States East Coast', 'Atlantic Canada'], ['Cape Verde', 'The Caribbean', 'British Virgin Islands', 'U.S. Virgin Islands', 'Cuba', 'Florida'], ['Lesser Antilles', 'Virgin Islands', 'Puerto Rico', 'Dominican Republic', 'Turks and Caicos Islands'], ['Central America', 'United States Gulf Coast (especially Florida Panhandle)']]\n",
    "\n",
    "# damages (USD($)) of hurricanes\n",
    "damages = ['Damages not recorded', '100M', 'Damages not recorded', '40M', '27.9M', '5M', 'Damages not recorded', '306M', '2M', '65.8M', '326M', '60.3M', '208M', '1.42B', '25.4M', 'Damages not recorded', '1.54B', '1.24B', '7.1B', '10B', '26.5B', '6.2B', '5.37B', '23.3B', '1.01B', '125B', '12B', '29.4B', '1.76B', '720M', '15.1B', '64.8B', '91.6B', '25.1B']\n",
    "\n",
    "# deaths for each hurricane\n",
    "deaths = [90,4000,16,3103,179,184,408,682,5,1023,43,319,688,259,37,11,2068,269,318,107,65,19325,51,124,17,1836,125,87,45,133,603,138,3057,74]"
   ]
  },
  {
   "cell_type": "code",
   "execution_count": 39,
   "metadata": {},
   "outputs": [],
   "source": [
    "# Update damages function\n",
    "def update_damages(lst_of_damages):\n",
    "    \"\"\"Function takes a list parameter and changes the recorded value\n",
    "    from B to billions, or 1,000,000,000 and M to millions, or 1,000,000.\n",
    "    If the damages were not recorded, the function does not change the value\n",
    "    and it's left as is.\n",
    "    \n",
    "    Example:\n",
    "    >>> update_damages(['Damages not recorded', '100M', '40M'])\n",
    "    ['Damages not recorded', 100000000.0, 40000000.0]\n",
    "    \"\"\"\n",
    "    result = []\n",
    "    for item in lst_of_damages:\n",
    "        if 'M' in item:\n",
    "            item = float(item.strip('M')) * 1000000  # Change string to millions, i.e. 1,000,000\n",
    "            result.append(item)\n",
    "        elif 'B' in item: \n",
    "            item = float(item.strip('B')) * 1000000000  # Change string to billions, i.e. 1,000,000,000\n",
    "            result.append(item)\n",
    "        else:\n",
    "            result.append(item)  # The string is 'Damages not recorded'\n",
    "    return result"
   ]
  },
  {
   "cell_type": "code",
   "execution_count": 52,
   "metadata": {},
   "outputs": [],
   "source": [
    "# Create a new list with the updated damages\n",
    "# The damages will all be floats or \"Damage not recorded\"\n",
    "updated_damages = update_damages(damages)"
   ]
  },
  {
   "cell_type": "code",
   "execution_count": 40,
   "metadata": {},
   "outputs": [],
   "source": [
    "# Construct hurricane dictionary function\n",
    "def build_hurricane_dictionary(list_names=names, list_months=months, list_years=years, list_max_winds=max_sustained_winds, list_areas_affected=areas_affected, list_damages=updated_damages, list_deaths=deaths):\n",
    "    \"\"\"Constructs a dictionary made out of lists. The keys of the dict are the names of the hurricanes and\n",
    "    the values are dictionaries containing a key for each piece of data about each hurricane.\n",
    "    Parameters are all lists:\n",
    "    names: names of the hurricanes\n",
    "    months: months in which the hurricanes occurred\n",
    "    years: years in which the hurricanes occurred\n",
    "    max_sustained_winds: maximum sustained winds (miles per hour) of the hurricanes\n",
    "    areas_affected: list of different areas affected by each of the hurricanes\n",
    "    deaths: total number of deaths caused by each of the hurricanes\n",
    "    \"\"\"\n",
    "    result = {}\n",
    "    \n",
    "    for name, month, year, wind, area, damage, deaths in zip(list_names, list_months, list_years, list_max_winds, list_areas_affected, list_damages, list_deaths):\n",
    "        result[name] = {\n",
    "                        'Name': name, \n",
    "                        'Month': month, \n",
    "                        'Year': year, \n",
    "                        'Max Sustained Wind': wind,\n",
    "                        'Areas Affected': area,\n",
    "                        'Damage': damage,\n",
    "                        'Deaths': deaths\n",
    "                       }\n",
    "    return result"
   ]
  },
  {
   "cell_type": "code",
   "execution_count": 41,
   "metadata": {},
   "outputs": [],
   "source": [
    "hurricanes = build_hurricane_dictionary()"
   ]
  },
  {
   "cell_type": "code",
   "execution_count": 54,
   "metadata": {},
   "outputs": [],
   "source": [
    "# Checking output of function that builds dictionary\n",
    "#pp(hurricanes)"
   ]
  },
  {
   "cell_type": "code",
   "execution_count": 43,
   "metadata": {},
   "outputs": [],
   "source": [
    "# Construct hurricane by year dictionary function\n",
    "def build_hurricanes_by_year(hurricane_dictionary):\n",
    "    \"\"\"Converts the current dictionary of hurricanes to a new dictionary\n",
    "    where the keys are years and the values are lists containing a dictionary\n",
    "    for each hurricane that occurred in that year.\n",
    "    \"\"\"\n",
    "    result = {}\n",
    "    for hurricane, data_dict in hurricane_dictionary.items():\n",
    "        current_year = data_dict['Year']\n",
    "        current_hurricane = data_dict\n",
    "        \n",
    "        if current_year not in result:  # The year has not been seen in the iteration\n",
    "            result[current_year] = [ current_hurricane ]\n",
    "        else:  # There is already a hurricane that happened in that year\n",
    "            result[current_year].append(current_hurricane)\n",
    "            \n",
    "    return result"
   ]
  },
  {
   "cell_type": "code",
   "execution_count": 56,
   "metadata": {},
   "outputs": [],
   "source": [
    "hurricanes_by_year = build_hurricanes_by_year(hurricanes)\n",
    "#pp(hurricanes_by_year)"
   ]
  },
  {
   "cell_type": "code",
   "execution_count": 45,
   "metadata": {},
   "outputs": [],
   "source": [
    "# Count affected areas function here\n",
    "def count_affected_areas(hurricane_dictionary):\n",
    "    \"\"\"Counts how often each area is listed as an affected area of a hurricane.\n",
    "    Returns a dictionary where the keys are each affected area and the values\n",
    "    are counts of how many times the areas were affected by a hurricane.\n",
    "    \"\"\"\n",
    "    areas_dict = {}\n",
    "\n",
    "    for cane in hurricanes.values():\n",
    "        for area in cane['Areas Affected']:\n",
    "            if area not in areas_dict:  # Check if the area has not been seen before\n",
    "                areas_dict[area] = 1\n",
    "            else:  # If we already have an area, just increase the count\n",
    "                areas_dict[area] += 1\n",
    "    return areas_dict"
   ]
  },
  {
   "cell_type": "code",
   "execution_count": 63,
   "metadata": {},
   "outputs": [],
   "source": [
    "# Build a dictionary that has an area as keys\n",
    "# and the count for values\n",
    "# Example Mexico: 7 means Mexico has been affected 7 times\n",
    "\n",
    "areas_affected_count = count_affected_areas(hurricanes)\n",
    "\n",
    "#pp(areas_affected_count)"
   ]
  },
  {
   "cell_type": "code",
   "execution_count": 47,
   "metadata": {},
   "outputs": [],
   "source": [
    "# Find most affected area function here:"
   ]
  },
  {
   "cell_type": "code",
   "execution_count": 48,
   "metadata": {},
   "outputs": [],
   "source": [
    "# Greatest number of deaths function here:"
   ]
  },
  {
   "cell_type": "code",
   "execution_count": 49,
   "metadata": {},
   "outputs": [],
   "source": [
    "# Categorise by mortality function here:"
   ]
  },
  {
   "cell_type": "code",
   "execution_count": 50,
   "metadata": {},
   "outputs": [],
   "source": [
    "# Greatest damage function here:"
   ]
  },
  {
   "cell_type": "code",
   "execution_count": 51,
   "metadata": {},
   "outputs": [],
   "source": [
    "# Categorise by damage function here:"
   ]
  }
 ],
 "metadata": {
  "kernelspec": {
   "display_name": "Python 3",
   "language": "python",
   "name": "python3"
  },
  "language_info": {
   "codemirror_mode": {
    "name": "ipython",
    "version": 3
   },
   "file_extension": ".py",
   "mimetype": "text/x-python",
   "name": "python",
   "nbconvert_exporter": "python",
   "pygments_lexer": "ipython3",
   "version": "3.6.9"
  }
 },
 "nbformat": 4,
 "nbformat_minor": 4
}
